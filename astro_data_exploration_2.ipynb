{
 "cells": [
  {
   "cell_type": "code",
   "execution_count": 1,
   "metadata": {
    "collapsed": true
   },
   "outputs": [],
   "source": [
    "import pandas as pd\n",
    "import os\n",
    "import matplotlib.pyplot as plt\n",
    "import numpy as np"
   ]
  },
  {
   "cell_type": "markdown",
   "metadata": {},
   "source": [
    "### this script can be used to calculate the stellar mass using the approach described by Zibetti et al. 2009"
   ]
  },
  {
   "cell_type": "code",
   "execution_count": 2,
   "metadata": {
    "collapsed": true
   },
   "outputs": [],
   "source": [
    "# Units and definitions\n",
    "Lsun = 3.846e26 # Solar luminosity in Watt"
   ]
  },
  {
   "cell_type": "markdown",
   "metadata": {},
   "source": [
    "### Determine g and i band images"
   ]
  },
  {
   "cell_type": "code",
   "execution_count": 4,
   "metadata": {},
   "outputs": [],
   "source": [
    "images = os.listdir(\"./SAMPLE/\")\n",
    "gimages = [image for image in images if image.endswith(\"g.csv\")]\n",
    "iimages = [image for image in images if image.endswith(\"i.csv\")]\n",
    "ids = [image.split(\"-\")[0] for image in gimages]"
   ]
  },
  {
   "cell_type": "code",
   "execution_count": 5,
   "metadata": {},
   "outputs": [
    {
     "name": "stdout",
     "output_type": "stream",
     "text": [
      "G list size:   53\n",
      "I list size:   53\n",
      "ids list size:  53\n"
     ]
    }
   ],
   "source": [
    "print(\"G list size:  \",len(gimages))\n",
    "print(\"I list size:  \",len(iimages))\n",
    "print(\"ids list size: \",len(ids))"
   ]
  },
  {
   "cell_type": "code",
   "execution_count": 7,
   "metadata": {},
   "outputs": [
    {
     "name": "stdout",
     "output_type": "stream",
     "text": [
      "1237645879578460255-g.csv\n",
      "1237645879578460255-i.csv\n",
      "1237645879578460255\n"
     ]
    }
   ],
   "source": [
    "print(gimages[0])\n",
    "print(iimages[0])\n",
    "print(ids[0])"
   ]
  },
  {
   "cell_type": "markdown",
   "metadata": {},
   "source": [
    "### Read in stellar masses and distance"
   ]
  },
  {
   "cell_type": "code",
   "execution_count": 8,
   "metadata": {
    "collapsed": true
   },
   "outputs": [],
   "source": [
    "df_mass = pd.read_csv(os.path.abspath(\"./sample.csv\"), sep=';')\n",
    "df_mass['SDSS_ID'] = df_mass['SDSS_ID'].apply(str)"
   ]
  },
  {
   "cell_type": "markdown",
   "metadata": {},
   "source": [
    "## Plotting a frame \n",
    "### # Read in as pandas dataframe"
   ]
  },
  {
   "cell_type": "code",
   "execution_count": 9,
   "metadata": {
    "collapsed": true
   },
   "outputs": [],
   "source": [
    "df_image = pd.read_csv(os.path.abspath(\"./SAMPLE/\" + gimages[15]), sep=',')"
   ]
  },
  {
   "cell_type": "code",
   "execution_count": 14,
   "metadata": {},
   "outputs": [
    {
     "data": {
      "text/html": [
       "<div>\n",
       "<table border=\"1\" class=\"dataframe\">\n",
       "  <thead>\n",
       "    <tr style=\"text-align: right;\">\n",
       "      <th></th>\n",
       "      <th>-0.00756256</th>\n",
       "      <th>-0.00157442</th>\n",
       "      <th>-0.0106891</th>\n",
       "      <th>-0.00121172</th>\n",
       "      <th>0.0274976</th>\n",
       "      <th>0.0346938</th>\n",
       "      <th>-0.0109701</th>\n",
       "      <th>-0.00579422</th>\n",
       "      <th>0.000328268</th>\n",
       "      <th>-0.0193955</th>\n",
       "      <th>...</th>\n",
       "      <th>0.00849693</th>\n",
       "      <th>0.00495795</th>\n",
       "      <th>-0.0259838</th>\n",
       "      <th>0.00590291</th>\n",
       "      <th>-0.0208995</th>\n",
       "      <th>-0.0315329</th>\n",
       "      <th>0.021343</th>\n",
       "      <th>-0.0144113</th>\n",
       "      <th>-0.00895312</th>\n",
       "      <th>0.0173727</th>\n",
       "    </tr>\n",
       "  </thead>\n",
       "  <tbody>\n",
       "    <tr>\n",
       "      <th>0</th>\n",
       "      <td>0.011577</td>\n",
       "      <td>-0.001051</td>\n",
       "      <td>-0.019319</td>\n",
       "      <td>0.011783</td>\n",
       "      <td>-0.014329</td>\n",
       "      <td>0.015715</td>\n",
       "      <td>-0.013074</td>\n",
       "      <td>-0.010033</td>\n",
       "      <td>0.017412</td>\n",
       "      <td>-0.011142</td>\n",
       "      <td>...</td>\n",
       "      <td>0.014679</td>\n",
       "      <td>0.006247</td>\n",
       "      <td>0.004399</td>\n",
       "      <td>0.005013</td>\n",
       "      <td>0.002695</td>\n",
       "      <td>0.012223</td>\n",
       "      <td>-0.003231</td>\n",
       "      <td>0.008459</td>\n",
       "      <td>-0.002561</td>\n",
       "      <td>0.008790</td>\n",
       "    </tr>\n",
       "    <tr>\n",
       "      <th>1</th>\n",
       "      <td>0.000852</td>\n",
       "      <td>0.004988</td>\n",
       "      <td>0.001199</td>\n",
       "      <td>-0.010293</td>\n",
       "      <td>0.005989</td>\n",
       "      <td>0.016406</td>\n",
       "      <td>0.024140</td>\n",
       "      <td>-0.015113</td>\n",
       "      <td>0.003650</td>\n",
       "      <td>0.006260</td>\n",
       "      <td>...</td>\n",
       "      <td>0.031415</td>\n",
       "      <td>-0.011776</td>\n",
       "      <td>-0.008311</td>\n",
       "      <td>0.027578</td>\n",
       "      <td>0.020750</td>\n",
       "      <td>0.030325</td>\n",
       "      <td>0.006890</td>\n",
       "      <td>-0.003599</td>\n",
       "      <td>0.023103</td>\n",
       "      <td>0.010136</td>\n",
       "    </tr>\n",
       "    <tr>\n",
       "      <th>2</th>\n",
       "      <td>-0.010729</td>\n",
       "      <td>0.009392</td>\n",
       "      <td>-0.002641</td>\n",
       "      <td>-0.009390</td>\n",
       "      <td>0.029164</td>\n",
       "      <td>-0.029773</td>\n",
       "      <td>0.004768</td>\n",
       "      <td>-0.005992</td>\n",
       "      <td>-0.008987</td>\n",
       "      <td>-0.002560</td>\n",
       "      <td>...</td>\n",
       "      <td>-0.000929</td>\n",
       "      <td>-0.002691</td>\n",
       "      <td>-0.027494</td>\n",
       "      <td>-0.003677</td>\n",
       "      <td>0.013162</td>\n",
       "      <td>-0.002232</td>\n",
       "      <td>0.027858</td>\n",
       "      <td>0.002723</td>\n",
       "      <td>0.002223</td>\n",
       "      <td>0.017934</td>\n",
       "    </tr>\n",
       "    <tr>\n",
       "      <th>3</th>\n",
       "      <td>0.005873</td>\n",
       "      <td>-0.001155</td>\n",
       "      <td>-0.008325</td>\n",
       "      <td>0.001046</td>\n",
       "      <td>0.008330</td>\n",
       "      <td>-0.008931</td>\n",
       "      <td>0.015206</td>\n",
       "      <td>0.015038</td>\n",
       "      <td>-0.008589</td>\n",
       "      <td>0.013469</td>\n",
       "      <td>...</td>\n",
       "      <td>0.007514</td>\n",
       "      <td>-0.035982</td>\n",
       "      <td>-0.011946</td>\n",
       "      <td>0.006340</td>\n",
       "      <td>-0.014828</td>\n",
       "      <td>0.009141</td>\n",
       "      <td>0.034919</td>\n",
       "      <td>0.002794</td>\n",
       "      <td>-0.013775</td>\n",
       "      <td>0.008887</td>\n",
       "    </tr>\n",
       "    <tr>\n",
       "      <th>4</th>\n",
       "      <td>-0.003019</td>\n",
       "      <td>0.005306</td>\n",
       "      <td>-0.022113</td>\n",
       "      <td>-0.006413</td>\n",
       "      <td>0.019269</td>\n",
       "      <td>0.007640</td>\n",
       "      <td>0.019228</td>\n",
       "      <td>0.007188</td>\n",
       "      <td>-0.004864</td>\n",
       "      <td>-0.006940</td>\n",
       "      <td>...</td>\n",
       "      <td>-0.003903</td>\n",
       "      <td>-0.003598</td>\n",
       "      <td>-0.002391</td>\n",
       "      <td>-0.012741</td>\n",
       "      <td>-0.035759</td>\n",
       "      <td>0.013519</td>\n",
       "      <td>-0.000828</td>\n",
       "      <td>0.023476</td>\n",
       "      <td>-0.001383</td>\n",
       "      <td>-0.002614</td>\n",
       "    </tr>\n",
       "  </tbody>\n",
       "</table>\n",
       "<p>5 rows × 126 columns</p>\n",
       "</div>"
      ],
      "text/plain": [
       "   -0.00756256  -0.00157442  -0.0106891  -0.00121172  0.0274976  0.0346938  \\\n",
       "0     0.011577    -0.001051   -0.019319     0.011783  -0.014329   0.015715   \n",
       "1     0.000852     0.004988    0.001199    -0.010293   0.005989   0.016406   \n",
       "2    -0.010729     0.009392   -0.002641    -0.009390   0.029164  -0.029773   \n",
       "3     0.005873    -0.001155   -0.008325     0.001046   0.008330  -0.008931   \n",
       "4    -0.003019     0.005306   -0.022113    -0.006413   0.019269   0.007640   \n",
       "\n",
       "   -0.0109701  -0.00579422  0.000328268  -0.0193955    ...      0.00849693  \\\n",
       "0   -0.013074    -0.010033     0.017412   -0.011142    ...        0.014679   \n",
       "1    0.024140    -0.015113     0.003650    0.006260    ...        0.031415   \n",
       "2    0.004768    -0.005992    -0.008987   -0.002560    ...       -0.000929   \n",
       "3    0.015206     0.015038    -0.008589    0.013469    ...        0.007514   \n",
       "4    0.019228     0.007188    -0.004864   -0.006940    ...       -0.003903   \n",
       "\n",
       "   0.00495795  -0.0259838  0.00590291  -0.0208995  -0.0315329  0.021343  \\\n",
       "0    0.006247    0.004399    0.005013    0.002695    0.012223 -0.003231   \n",
       "1   -0.011776   -0.008311    0.027578    0.020750    0.030325  0.006890   \n",
       "2   -0.002691   -0.027494   -0.003677    0.013162   -0.002232  0.027858   \n",
       "3   -0.035982   -0.011946    0.006340   -0.014828    0.009141  0.034919   \n",
       "4   -0.003598   -0.002391   -0.012741   -0.035759    0.013519 -0.000828   \n",
       "\n",
       "   -0.0144113  -0.00895312  0.0173727  \n",
       "0    0.008459    -0.002561   0.008790  \n",
       "1   -0.003599     0.023103   0.010136  \n",
       "2    0.002723     0.002223   0.017934  \n",
       "3    0.002794    -0.013775   0.008887  \n",
       "4    0.023476    -0.001383  -0.002614  \n",
       "\n",
       "[5 rows x 126 columns]"
      ]
     },
     "execution_count": 14,
     "metadata": {},
     "output_type": "execute_result"
    }
   ],
   "source": [
    "df_image.head()"
   ]
  },
  {
   "cell_type": "markdown",
   "metadata": {},
   "source": [
    "### # Plot an image with a certain scale"
   ]
  },
  {
   "cell_type": "code",
   "execution_count": 10,
   "metadata": {},
   "outputs": [
    {
     "name": "stdout",
     "output_type": "stream",
     "text": [
      "plotting image :  1237645943978983683-i.csv\n"
     ]
    },
    {
     "data": {
      "image/png": "[encoded data removed]",
      "text/plain": [
       "<matplotlib.figure.Figure at 0x25786c49e48>"
      ]
     },
     "metadata": {},
     "output_type": "display_data"
    }
   ],
   "source": [
    "print(\"plotting image : \", images[15])\n",
    "plt_data = [[float(y) for y in x] for x in df_image.as_matrix()] # convert to matrix\n",
    "plt.imshow(plt_data, cmap='gist_heat')\n",
    "plt.colorbar()\n",
    "plt.clim(0,1) # set Zscale\n",
    "plt.show()"
   ]
  },
  {
   "cell_type": "markdown",
   "metadata": {},
   "source": [
    "### Determine stellar mass "
   ]
  },
  {
   "cell_type": "code",
   "execution_count": 15,
   "metadata": {
    "collapsed": true
   },
   "outputs": [],
   "source": [
    "gi_masses = []\n",
    "true_masses = []\n",
    "errors = []\n",
    "\n",
    "for ID in ids:\n",
    "\n",
    "    df_g_image = pd.read_csv(os.path.abspath(\"./SAMPLE/\" + ID + \"-g.csv\"), sep=',')\n",
    "    df_i_image = pd.read_csv(os.path.abspath(\"./SAMPLE/\" + ID + \"-i.csv\"), sep=',')\n",
    "\n",
    "    flux_g = df_g_image.values.sum()  #add all values in the dataframe\n",
    "    flux_i = df_i_image.values.sum()\n",
    "\n",
    "    col_gi = -2.5*np.log10(flux_g/flux_i) # calculate the color difference\n",
    "    logML_g  = -1.197 + 1.431 * col_gi # calculate the mass-to-light ratio\n",
    "    ML_g     = 10**logML_g\n",
    "\n",
    "    flux_g_Jy = flux_g * 3.631e-6 # nanomaggies to jansky\n",
    "    dist = df_mass[df_mass['SDSS_ID'] == ID]['Distance']\n",
    "    D = dist * 3.086e22 # Megaparsec to meter\n",
    "\n",
    "    Lg = flux_g_Jy * 1.e-26 * 4.*np.pi*D**2 * 3.e8 / (0.469*1.e-6) / Lsun # flux to solar luminosity\n",
    "\n",
    "    Mg = ML_g*Lg # Stellar mass in solar masses\n",
    "\n",
    "    gi_masses.append(float(np.log10(Mg))) # log10 of stellar mass\n",
    "    true_masses.append(float(df_mass[df_mass['SDSS_ID'] == ID]['logMstar']))\n",
    "    errors.append(float(df_mass[df_mass['SDSS_ID'] == ID]['err_logMstar']))"
   ]
  },
  {
   "cell_type": "code",
   "execution_count": 18,
   "metadata": {},
   "outputs": [
    {
     "name": "stdout",
     "output_type": "stream",
     "text": [
      "53\n"
     ]
    }
   ],
   "source": [
    "print(len(gi_masses))"
   ]
  },
  {
   "cell_type": "code",
   "execution_count": 38,
   "metadata": {},
   "outputs": [
    {
     "name": "stdout",
     "output_type": "stream",
     "text": [
      "0 - Gi masse: 11.67   True masse: 11.1   Error: 0.029\n",
      "1 - Gi masse: 12.59   True masse: 10.54   Error: 0.032\n",
      "2 - Gi masse: 12.23   True masse: 11.32   Error: 0.015\n",
      "3 - Gi masse: 11.06   True masse: 10.86   Error: 0.026\n",
      "4 - Gi masse: 9.278   True masse: 9.485   Error: 0.042\n",
      "5 - Gi masse: 10.42   True masse: 10.76   Error: 0.029\n",
      "6 - Gi masse: 11.18   True masse: 10.17   Error: 0.024\n",
      "7 - Gi masse: 11.65   True masse: 11.79   Error: 0.017\n",
      "8 - Gi masse: 10.68   True masse: 10.93   Error: 0.044\n",
      "9 - Gi masse: 10.81   True masse: 10.82   Error: 0.012\n",
      "10 - Gi masse: 11.24   True masse: 10.09   Error: 0.04\n",
      "11 - Gi masse: 10.48   True masse: 10.46   Error: 0.033\n",
      "12 - Gi masse: 10.92   True masse: 11.24   Error: 0.014\n",
      "13 - Gi masse: 9.209   True masse: 9.585   Error: 0.058\n",
      "14 - Gi masse: 10.43   True masse: 10.74   Error: 0.031\n",
      "15 - Gi masse: 10.99   True masse: 10.68   Error: 0.029\n",
      "16 - Gi masse: 10.02   True masse: 10.31   Error: 0.032\n",
      "17 - Gi masse: 10.88   True masse: 11.09   Error: 0.011\n",
      "18 - Gi masse: 10.77   True masse: 11.03   Error: 0.022\n",
      "19 - Gi masse: 11.31   True masse: 11.21   Error: 0.028\n",
      "20 - Gi masse: 10.25   True masse: 9.934   Error: 0.043\n",
      "21 - Gi masse: 10.63   True masse: 10.97   Error: 0.024\n",
      "22 - Gi masse: 10.58   True masse: 10.96   Error: 0.016\n",
      "23 - Gi masse: 9.751   True masse: 10.23   Error: 0.015\n",
      "24 - Gi masse: 10.4   True masse: 10.45   Error: 0.032\n",
      "25 - Gi masse: 10.93   True masse: 11.02   Error: 0.019\n",
      "26 - Gi masse: 10.08   True masse: 10.3   Error: 0.045\n",
      "27 - Gi masse: 11.25   True masse: 10.6   Error: 0.048\n",
      "28 - Gi masse: 10.14   True masse: 10.64   Error: 0.026\n",
      "29 - Gi masse: 11.76   True masse: 11.52   Error: 0.014\n",
      "30 - Gi masse: 11.3   True masse: 11.02   Error: 0.018\n",
      "31 - Gi masse: 9.322   True masse: 10.07   Error: 0.042\n",
      "32 - Gi masse: 10.66   True masse: 10.71   Error: 0.033\n",
      "33 - Gi masse: 10.25   True masse: 10.7   Error: 0.024\n",
      "34 - Gi masse: 9.016   True masse: 9.235   Error: 0.051\n",
      "35 - Gi masse: 9.804   True masse: 10.99   Error: 0.032\n",
      "36 - Gi masse: 10.47   True masse: 10.31   Error: 0.034\n",
      "37 - Gi masse: 11.18   True masse: 11.04   Error: 0.025\n",
      "38 - Gi masse: 10.08   True masse: 10.57   Error: 0.011\n",
      "39 - Gi masse: 11.24   True masse: 10.85   Error: 0.029\n",
      "40 - Gi masse: 10.82   True masse: 10.9   Error: 0.048\n",
      "41 - Gi masse: 10.94   True masse: 10.78   Error: 0.028\n",
      "42 - Gi masse: 10.12   True masse: 10.36   Error: 0.031\n",
      "43 - Gi masse: 10.33   True masse: 10.98   Error: 0.025\n",
      "44 - Gi masse: 10.8   True masse: 10.64   Error: 0.026\n",
      "45 - Gi masse: 9.986   True masse: 10.55   Error: 0.033\n",
      "46 - Gi masse: 9.957   True masse: 9.903   Error: 0.028\n",
      "47 - Gi masse: 9.335   True masse: 10.63   Error: 0.02\n",
      "48 - Gi masse: 10.43   True masse: 10.75   Error: 0.027\n",
      "49 - Gi masse: 9.522   True masse: 10.14   Error: 0.04\n",
      "50 - Gi masse: 10.64   True masse: 10.89   Error: 0.036\n",
      "51 - Gi masse: 11.1   True masse: 11.11   Error: 0.022\n",
      "52 - Gi masse: 10.48   True masse: 10.61   Error: 0.025\n"
     ]
    }
   ],
   "source": [
    "for i in np.arange(len(gi_masses)):\n",
    "    print(\"{} - Gi masse: {:.4}   True masse: {:.4}   Error: {:.4}\".format(i, gi_masses[i], true_masses[i], errors[i] ))"
   ]
  },
  {
   "cell_type": "code",
   "execution_count": 40,
   "metadata": {},
   "outputs": [],
   "source": [
    "df_comparison = pd.DataFrame({\"CalcMass\": gi_masses,\n",
    "                              \"TrueMass\": true_masses,\n",
    "                              \"Error\": errors})\n"
   ]
  },
  {
   "cell_type": "code",
   "execution_count": 44,
   "metadata": {},
   "outputs": [
    {
     "data": {
      "text/html": [
       "<div>\n",
       "<table border=\"1\" class=\"dataframe\">\n",
       "  <thead>\n",
       "    <tr style=\"text-align: right;\">\n",
       "      <th></th>\n",
       "      <th>CalcMass</th>\n",
       "      <th>Error</th>\n",
       "      <th>TrueMass</th>\n",
       "    </tr>\n",
       "  </thead>\n",
       "  <tbody>\n",
       "    <tr>\n",
       "      <th>0</th>\n",
       "      <td>11.671942</td>\n",
       "      <td>0.029</td>\n",
       "      <td>11.101</td>\n",
       "    </tr>\n",
       "    <tr>\n",
       "      <th>1</th>\n",
       "      <td>12.588725</td>\n",
       "      <td>0.032</td>\n",
       "      <td>10.539</td>\n",
       "    </tr>\n",
       "    <tr>\n",
       "      <th>2</th>\n",
       "      <td>12.233188</td>\n",
       "      <td>0.015</td>\n",
       "      <td>11.318</td>\n",
       "    </tr>\n",
       "    <tr>\n",
       "      <th>3</th>\n",
       "      <td>11.057099</td>\n",
       "      <td>0.026</td>\n",
       "      <td>10.862</td>\n",
       "    </tr>\n",
       "    <tr>\n",
       "      <th>4</th>\n",
       "      <td>9.277894</td>\n",
       "      <td>0.042</td>\n",
       "      <td>9.485</td>\n",
       "    </tr>\n",
       "  </tbody>\n",
       "</table>\n",
       "</div>"
      ],
      "text/plain": [
       "    CalcMass  Error  TrueMass\n",
       "0  11.671942  0.029    11.101\n",
       "1  12.588725  0.032    10.539\n",
       "2  12.233188  0.015    11.318\n",
       "3  11.057099  0.026    10.862\n",
       "4   9.277894  0.042     9.485"
      ]
     },
     "execution_count": 44,
     "metadata": {},
     "output_type": "execute_result"
    }
   ],
   "source": [
    "df_comparison.head()"
   ]
  },
  {
   "cell_type": "code",
   "execution_count": 45,
   "metadata": {},
   "outputs": [
    {
     "name": "stdout",
     "output_type": "stream",
     "text": [
      "CalcMass    float64\n",
      "Error       float64\n",
      "TrueMass    float64\n",
      "dtype: object\n"
     ]
    }
   ],
   "source": [
    "print(df_comparison.dtypes)"
   ]
  },
  {
   "cell_type": "code",
   "execution_count": 42,
   "metadata": {},
   "outputs": [
    {
     "data": {
      "image/png": "[encoded data removed]",
      "text/plain": [
       "<matplotlib.figure.Figure at 0x25788406080>"
      ]
     },
     "metadata": {},
     "output_type": "display_data"
    }
   ],
   "source": [
    "plt.errorbar(df_comparison['CalcMass'], df_comparison['TrueMass'], yerr=df_comparison['Error'], fmt='o')\n",
    "plt.xlabel('log g-i colour mass $[M_\\odot]$')\n",
    "plt.ylabel('log SED fit mass $[M_\\odot]$')\n",
    "plt.show()"
   ]
  },
  {
   "cell_type": "code",
   "execution_count": null,
   "metadata": {
    "collapsed": true
   },
   "outputs": [],
   "source": []
  }
 ],
 "metadata": {
  "kernelspec": {
   "display_name": "Python 3",
   "language": "python",
   "name": "python3"
  },
  "language_info": {
   "codemirror_mode": {
    "name": "ipython",
    "version": 3
   },
   "file_extension": ".py",
   "mimetype": "text/x-python",
   "name": "python",
   "nbconvert_exporter": "python",
   "pygments_lexer": "ipython3",
   "version": "3.5.3"
  }
 },
 "nbformat": 4,
 "nbformat_minor": 2
}
